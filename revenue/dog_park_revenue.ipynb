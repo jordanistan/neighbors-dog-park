{
  "cells": [
    {
      "cell_type": "markdown",
      "id": "d83b630b",
      "metadata": {},
      "source": [
        "This finds the amount of revenue based off the amount of members."
      ]
    },
    {
      "cell_type": "code",
      "execution_count": 1,
      "id": "3fab7414-3b1b-4927-af1b-c70bbcfb0528",
      "metadata": {
        "ExecuteTime": {
          "end_time": "2023-07-22T18:37:39.359120+00:00",
          "start_time": "2023-07-22T18:37:39.198625+00:00"
        },
        "noteable": {
          "cell_type": "code"
        }
      },
      "outputs": [
        {
          "data": {
            "text/plain": [
              "70000"
            ]
          },
          "execution_count": 1,
          "metadata": {},
          "output_type": "execute_result"
        }
      ],
      "source": [
        "members = 2000\n",
        "membership_fee = 35\n",
        "membership_revenue = members * membership_fee\n",
        "membership_revenue"
      ]
    },
    {
      "cell_type": "markdown",
      "id": "04b14229",
      "metadata": {},
      "source": [
        "This finds the amount of revenue based off the amount of drinks bought"
      ]
    },
    {
      "cell_type": "code",
      "execution_count": 2,
      "id": "7aa2c2a3-0c04-4830-aad1-c04a94ee8981",
      "metadata": {
        "ExecuteTime": {
          "end_time": "2023-07-22T18:37:44.077113+00:00",
          "start_time": "2023-07-22T18:37:43.916487+00:00"
        },
        "noteable": {
          "cell_type": "code"
        }
      },
      "outputs": [
        {
          "data": {
            "text/plain": [
              "3000.0"
            ]
          },
          "execution_count": 2,
          "metadata": {},
          "output_type": "execute_result"
        }
      ],
      "source": [
        "percentage_buying_drinks = 0.3\n",
        "cold_brew_price = 5\n",
        "drink_sales_revenue = percentage_buying_drinks * members * cold_brew_price\n",
        "drink_sales_revenue"
      ]
    },
    {
      "cell_type": "markdown",
      "id": "a0a50688",
      "metadata": {},
      "source": [
        "This shows the cost of having the staff. This includes the summer hours. "
      ]
    },
    {
      "cell_type": "code",
      "execution_count": 3,
      "id": "ded733bf-d199-4cbf-9f2e-06674a4227c9",
      "metadata": {
        "ExecuteTime": {
          "end_time": "2023-07-22T18:29:25.562983+00:00",
          "start_time": "2023-07-22T18:29:25.403805+00:00"
        },
        "noteable": {
          "cell_type": "code"
        }
      },
      "outputs": [
        {
          "data": {
            "text/plain": [
              "32500.0"
            ]
          },
          "execution_count": 3,
          "metadata": {},
          "output_type": "execute_result"
        }
      ],
      "source": [
        "staff = 10\n",
        "hourly_wage = 12.5\n",
        "weekly_hours = (5 * 9) + (2 * 10)\n",
        "monthly_hours = 4 * weekly_hours\n",
        "staff_cost = staff * hourly_wage * monthly_hours\n",
        "staff_cost"
      ]
    },
    {
      "cell_type": "markdown",
      "id": "7b32718b",
      "metadata": {},
      "source": [
        "The cost of rent of the building"
      ]
    },
    {
      "cell_type": "code",
      "execution_count": 4,
      "id": "5dd6e314-0eb0-4d9a-be9c-e8748071a949",
      "metadata": {
        "ExecuteTime": {
          "end_time": "2023-07-22T18:29:48.441916+00:00",
          "start_time": "2023-07-22T18:29:48.282292+00:00"
        },
        "noteable": {
          "cell_type": "code"
        }
      },
      "outputs": [
        {
          "data": {
            "text/plain": [
              "(34500.0, 38500.0)"
            ]
          },
          "execution_count": 4,
          "metadata": {},
          "output_type": "execute_result"
        }
      ],
      "source": [
        "rent_cost = 2000\n",
        "total_cost = staff_cost + rent_cost\n",
        "total_revenue = membership_revenue + drink_sales_revenue\n",
        "net_profit = total_revenue - total_cost\n",
        "total_cost, net_profit"
      ]
    },
    {
      "cell_type": "markdown",
      "id": "c68504af",
      "metadata": {},
      "source": [
        "This part adds all of that up and determines a rough monthly estimate for profit."
      ]
    },
    {
      "cell_type": "code",
      "execution_count": 5,
      "id": "00874a3c-c9b7-4787-8af6-fd7ee06ec025",
      "metadata": {
        "ExecuteTime": {
          "end_time": "2023-07-22T18:30:56.514923+00:00",
          "start_time": "2023-07-22T18:30:56.355496+00:00"
        },
        "noteable": {
          "cell_type": "code"
        }
      },
      "outputs": [
        {
          "data": {
            "text/plain": [
              "(52500, 2250.0, 54750.0, 20250.0)"
            ]
          },
          "execution_count": 5,
          "metadata": {},
          "output_type": "execute_result"
        }
      ],
      "source": [
        "members = 1500\n",
        "membership_revenue = members * membership_fee\n",
        "drink_sales_revenue = percentage_buying_drinks * members * cold_brew_price\n",
        "total_revenue = membership_revenue + drink_sales_revenue\n",
        "net_profit = total_revenue - total_cost\n",
        "membership_revenue, drink_sales_revenue, total_revenue, net_profit"
      ]
    },
    {
      "cell_type": "code",
      "execution_count": 6,
      "id": "a3a630ec-c50b-4d66-8fc2-2406426c1d6f",
      "metadata": {
        "ExecuteTime": {
          "end_time": "2023-07-22T18:31:56.442835+00:00",
          "start_time": "2023-07-22T18:31:56.240889+00:00"
        },
        "datalink": {
          "07238146-44f4-4375-9704-8088f05ffdcc": {
            "applied_filters": [],
            "dataframe_info": {
              "default_index_used": true,
              "orig_num_cols": 2,
              "orig_num_rows": 7,
              "orig_size_bytes": 168,
              "truncated_num_cols": 2,
              "truncated_num_rows": 7,
              "truncated_size_bytes": 168,
              "truncated_string_columns": []
            },
            "display_id": "07238146-44f4-4375-9704-8088f05ffdcc",
            "dx_settings": {
              "ALLOW_NOTEABLE_ATTRS": true,
              "COLUMN_SAMPLING_METHOD": "outer",
              "DB_LOCATION": ":memory:",
              "DEV_MODE": false,
              "DISPLAY_MAX_COLUMNS": 100,
              "DISPLAY_MAX_ROWS": 50000,
              "DISPLAY_MODE": "simple",
              "ENABLE_ASSIGNMENT": true,
              "ENABLE_DATALINK": true,
              "FLATTEN_COLUMN_VALUES": true,
              "FLATTEN_INDEX_VALUES": false,
              "GENERATE_DEX_METADATA": false,
              "HTML_TABLE_SCHEMA": false,
              "LOG_LEVEL": 30,
              "MAX_RENDER_SIZE_BYTES": 104857600,
              "MAX_STRING_LENGTH": 250,
              "NUM_PAST_SAMPLES_TRACKED": 3,
              "RANDOM_STATE": 12648430,
              "RESET_INDEX_VALUES": false,
              "ROW_SAMPLING_METHOD": "random",
              "SAMPLING_FACTOR": 0.1,
              "SAMPLING_METHOD": "random",
              "STRINGIFY_COLUMN_VALUES": true,
              "STRINGIFY_INDEX_VALUES": false
            },
            "sample_history": [],
            "sampling_time": "2023-07-22T18:31:56.286314",
            "user_variable_name": "df",
            "variable_name": "df"
          }
        },
        "noteable": {
          "cell_type": "code"
        }
      },
      "outputs": [
        {
          "data": {
            "text/html": [
              "<div>\n",
              "<style scoped>\n",
              "    .dataframe tbody tr th:only-of-type {\n",
              "        vertical-align: middle;\n",
              "    }\n",
              "\n",
              "    .dataframe tbody tr th {\n",
              "        vertical-align: top;\n",
              "    }\n",
              "\n",
              "    .dataframe thead th {\n",
              "        text-align: right;\n",
              "    }\n",
              "</style>\n",
              "<table border=\"1\" class=\"dataframe\">\n",
              "  <thead>\n",
              "    <tr style=\"text-align: right;\">\n",
              "      <th></th>\n",
              "      <th>Revenue/Cost Item</th>\n",
              "      <th>Amount</th>\n",
              "    </tr>\n",
              "  </thead>\n",
              "  <tbody>\n",
              "    <tr>\n",
              "      <th>0</th>\n",
              "      <td>Membership Revenue</td>\n",
              "      <td>52500.0</td>\n",
              "    </tr>\n",
              "    <tr>\n",
              "      <th>1</th>\n",
              "      <td>Drink Sales Revenue</td>\n",
              "      <td>2250.0</td>\n",
              "    </tr>\n",
              "    <tr>\n",
              "      <th>2</th>\n",
              "      <td>Staff Cost</td>\n",
              "      <td>32500.0</td>\n",
              "    </tr>\n",
              "    <tr>\n",
              "      <th>3</th>\n",
              "      <td>Rent Cost</td>\n",
              "      <td>2000.0</td>\n",
              "    </tr>\n",
              "    <tr>\n",
              "      <th>4</th>\n",
              "      <td>Total Revenue</td>\n",
              "      <td>54750.0</td>\n",
              "    </tr>\n",
              "    <tr>\n",
              "      <th>5</th>\n",
              "      <td>Total Cost</td>\n",
              "      <td>34500.0</td>\n",
              "    </tr>\n",
              "    <tr>\n",
              "      <th>6</th>\n",
              "      <td>Net Profit</td>\n",
              "      <td>20250.0</td>\n",
              "    </tr>\n",
              "  </tbody>\n",
              "</table>\n",
              "</div>"
            ],
            "text/plain": [
              "     Revenue/Cost Item   Amount\n",
              "0   Membership Revenue  52500.0\n",
              "1  Drink Sales Revenue   2250.0\n",
              "2           Staff Cost  32500.0\n",
              "3            Rent Cost   2000.0\n",
              "4        Total Revenue  54750.0\n",
              "5           Total Cost  34500.0\n",
              "6           Net Profit  20250.0"
            ]
          },
          "execution_count": 6,
          "metadata": {},
          "output_type": "execute_result"
        }
      ],
      "source": [
        "import pandas as pd\n",
        "\n",
        "data = {\n",
        "    'Revenue/Cost Item': ['Membership Revenue', 'Drink Sales Revenue', 'Staff Cost', 'Rent Cost', 'Total Revenue', 'Total Cost', 'Net Profit'],\n",
        "    'Amount': [membership_revenue, drink_sales_revenue, staff_cost, rent_cost, total_revenue, total_cost, net_profit]\n",
        "}\n",
        "\n",
        "df = pd.DataFrame(data)\n",
        "df"
      ]
    }
  ],
  "metadata": {
    "kernel_info": {
      "name": "python3"
    },
    "kernelspec": {
      "display_name": "Python 3.9",
      "language": "python",
      "name": "python3"
    },
    "language_info": {
      "codemirror_mode": {
        "name": "ipython",
        "version": 3
      },
      "file_extension": ".py",
      "mimetype": "text/x-python",
      "name": "python",
      "nbconvert_exporter": "python",
      "pygments_lexer": "ipython3",
      "version": "3.11.4"
    },
    "noteable": {
      "last_delta_id": "8668c29f-9a1e-4d31-a557-8944503bb123",
      "last_transaction_id": "bfcbda09-d3ab-4481-800a-17574f2ad44d"
    },
    "noteable-chatgpt": {
      "create_notebook": {
        "openai_conversation_id": "4ef7f166-27a6-55b2-ac55-ac9c4e6cdfc3",
        "openai_ephemeral_user_id": "f7d2122c-7f8e-5031-be24-385aeedd2c7d",
        "openai_subdivision1_iso_code": "US-TX"
      }
    },
    "nteract": {
      "version": "noteable@2.9.0"
    },
    "selected_hardware_size": "small"
  },
  "nbformat": 4,
  "nbformat_minor": 5
}
